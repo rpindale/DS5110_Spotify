{
 "cells": [
  {
   "cell_type": "code",
   "execution_count": 1,
   "metadata": {},
   "outputs": [],
   "source": [
    "import pandas as pd\n",
    "from pyspark.sql import functions as F\n",
    "\n",
    "\n",
    "spark = SparkSession.builder.getOrCreate()"
   ]
  },
  {
   "cell_type": "code",
   "execution_count": 50,
   "metadata": {},
   "outputs": [],
   "source": [
    "# load modules\n",
    "from pyspark.sql import SparkSession\n",
    "from pyspark.mllib.classification import LogisticRegressionWithLBFGS, LogisticRegressionModel\n",
    "from pyspark.mllib.regression import LabeledPoint\n",
    "from pyspark.ml.feature import VectorAssembler \n",
    "from pyspark.mllib.linalg import Vectors\n",
    "from pyspark.mllib.evaluation import MulticlassMetrics\n",
    "\n",
    "import os"
   ]
  },
  {
   "cell_type": "code",
   "execution_count": 2,
   "metadata": {},
   "outputs": [],
   "source": [
    "# read text file into pyspark dataframe\n",
    "filename = 'top50.csv'\n",
    "df = spark.read.csv(filename,  inferSchema=True, header = True)"
   ]
  },
  {
   "cell_type": "code",
   "execution_count": 4,
   "metadata": {},
   "outputs": [
    {
     "name": "stdout",
     "output_type": "stream",
     "text": [
      "+---+----------+------------+--------------+----------------+------+------------+--------------+--------+--------+-------+--------------+------------+----------+\n",
      "|_c0|Track.Name| Artist.Name|         Genre|Beats.Per.Minute|Energy|Danceability|Loudness..dB..|Liveness|Valence.|Length.|Acousticness..|Speechiness.|Popularity|\n",
      "+---+----------+------------+--------------+----------------+------+------------+--------------+--------+--------+-------+--------------+------------+----------+\n",
      "|  1|  Se�orita|Shawn Mendes|  canadian pop|             117|    55|          76|            -6|       8|      75|    191|             4|           3|        79|\n",
      "|  2|     China|    Anuel AA|reggaeton flow|             105|    81|          79|            -4|       8|      61|    302|             8|           9|        92|\n",
      "+---+----------+------------+--------------+----------------+------+------------+--------------+--------+--------+-------+--------------+------------+----------+\n",
      "only showing top 2 rows\n",
      "\n"
     ]
    }
   ],
   "source": [
    "df.show(2)"
   ]
  },
  {
   "cell_type": "code",
   "execution_count": 5,
   "metadata": {},
   "outputs": [],
   "source": [
    "from pyspark.ml.feature import VectorAssembler\n",
    "from pyspark.ml.feature import StandardScaler"
   ]
  },
  {
   "cell_type": "code",
   "execution_count": 34,
   "metadata": {},
   "outputs": [
    {
     "data": {
      "text/plain": [
       "['_c0',\n",
       " 'Track.Name',\n",
       " 'Artist.Name',\n",
       " 'Genre',\n",
       " 'Beats.Per.Minute',\n",
       " 'Energy',\n",
       " 'Danceability',\n",
       " 'Loudness..dB..',\n",
       " 'Liveness',\n",
       " 'Valence.',\n",
       " 'Length.',\n",
       " 'Acousticness..',\n",
       " 'Speechiness.',\n",
       " 'Popularity']"
      ]
     },
     "execution_count": 34,
     "metadata": {},
     "output_type": "execute_result"
    }
   ],
   "source": [
    "df_feats = df.columns\n",
    "df_feats"
   ]
  },
  {
   "cell_type": "code",
   "execution_count": 37,
   "metadata": {},
   "outputs": [],
   "source": [
    "df2 = df.withColumnRenamed(\"Beats.Per.Minute\",\"BPM\") \\\n",
    "    .withColumnRenamed(\"Loudness..dB..\",\"Loudness\")\\\n",
    "    .withColumnRenamed(\"Valence.\",\"Valence\")\\\n",
    "    .withColumnRenamed(\"Length.\",\"Length\")\\\n",
    "    .withColumnRenamed(\"Acousticness..\",\"Acousticness\")\\\n",
    "    .withColumnRenamed(\"Speechiness.\",\"Speechiness\")"
   ]
  },
  {
   "cell_type": "code",
   "execution_count": 31,
   "metadata": {},
   "outputs": [
    {
     "data": {
      "text/plain": [
       "VectorAssembler_d4c49c3b3ed6"
      ]
     },
     "execution_count": 31,
     "metadata": {},
     "output_type": "execute_result"
    }
   ],
   "source": [
    "vecAssembler = VectorAssembler(outputCol = 'features')\n",
    "vecAssembler.setInputCols([\n",
    "                         'BPM',\n",
    " 'Energy',\n",
    " 'Danceability',\n",
    " 'Loudness',\n",
    " 'Liveness',\n",
    " 'Valence',\n",
    " 'Length',\n",
    " 'Acousticness',\n",
    " 'Speechiness',\n",
    " 'Popularity'])"
   ]
  },
  {
   "cell_type": "code",
   "execution_count": 39,
   "metadata": {},
   "outputs": [],
   "source": [
    "transformed =vecAssembler.transform(df2)"
   ]
  },
  {
   "cell_type": "code",
   "execution_count": 40,
   "metadata": {},
   "outputs": [
    {
     "name": "stdout",
     "output_type": "stream",
     "text": [
      "+---+----------+------------+--------------+---+------+------------+--------+--------+-------+------+------------+-----------+----------+--------------------+\n",
      "|_c0|Track.Name| Artist.Name|         Genre|BPM|Energy|Danceability|Loudness|Liveness|Valence|Length|Acousticness|Speechiness|Popularity|            features|\n",
      "+---+----------+------------+--------------+---+------+------------+--------+--------+-------+------+------------+-----------+----------+--------------------+\n",
      "|  1|  Se�orita|Shawn Mendes|  canadian pop|117|    55|          76|      -6|       8|     75|   191|           4|          3|        79|[55.0,76.0,8.0,75...|\n",
      "|  2|     China|    Anuel AA|reggaeton flow|105|    81|          79|      -4|       8|     61|   302|           8|          9|        92|[81.0,79.0,8.0,61...|\n",
      "+---+----------+------------+--------------+---+------+------------+--------+--------+-------+------+------------+-----------+----------+--------------------+\n",
      "only showing top 2 rows\n",
      "\n"
     ]
    }
   ],
   "source": [
    "transformed.show(2)"
   ]
  },
  {
   "cell_type": "code",
   "execution_count": 41,
   "metadata": {},
   "outputs": [],
   "source": [
    "from pyspark.ml.feature import StandardScaler\n",
    "Scalerizer = StandardScaler().setInputCol(\"features\").setOutputCol(\"scaled_features\")\n",
    "transformed = Scalerizer.fit(transformed).transform(transformed)"
   ]
  },
  {
   "cell_type": "code",
   "execution_count": 42,
   "metadata": {},
   "outputs": [],
   "source": [
    "dataRdd = transformed.select(\"Genre\", \"scaled_features\").rdd.map(tuple)"
   ]
  },
  {
   "cell_type": "code",
   "execution_count": 43,
   "metadata": {},
   "outputs": [
    {
     "data": {
      "text/plain": [
       "[('canadian pop', DenseVector([3.8646, 6.3706, 0.7195, 3.3578, 17.5888])),\n",
       " ('reggaeton flow', DenseVector([5.6914, 6.622, 0.7195, 2.731, 20.4832]))]"
      ]
     },
     "execution_count": 43,
     "metadata": {},
     "output_type": "execute_result"
    }
   ],
   "source": [
    "dataRdd.take(2)"
   ]
  },
  {
   "cell_type": "code",
   "execution_count": 44,
   "metadata": {},
   "outputs": [],
   "source": [
    "lp = dataRdd.map(lambda row:(1 if row[0]=='M' else 0, Vectors.dense(row[1])))    \\\n",
    "                    .map(lambda row: LabeledPoint(row[0], row[1]))"
   ]
  },
  {
   "cell_type": "code",
   "execution_count": 45,
   "metadata": {},
   "outputs": [],
   "source": [
    "training, test = lp.randomSplit([0.7, 0.3], seed = 314)"
   ]
  },
  {
   "cell_type": "code",
   "execution_count": 49,
   "metadata": {},
   "outputs": [
    {
     "ename": "NameError",
     "evalue": "name 'LogisticRegressionWithLBFGS' is not defined",
     "output_type": "error",
     "traceback": [
      "\u001b[0;31m---------------------------------------------------------------------------\u001b[0m",
      "\u001b[0;31mNameError\u001b[0m                                 Traceback (most recent call last)",
      "\u001b[0;32m<ipython-input-49-eccb04066aba>\u001b[0m in \u001b[0;36m<module>\u001b[0;34m\u001b[0m\n\u001b[0;32m----> 1\u001b[0;31m \u001b[0mmodel\u001b[0m \u001b[0;34m=\u001b[0m \u001b[0mLogisticRegressionWithLBFGS\u001b[0m\u001b[0;34m.\u001b[0m\u001b[0mtrain\u001b[0m\u001b[0;34m(\u001b[0m\u001b[0mtraining\u001b[0m\u001b[0;34m)\u001b[0m\u001b[0;34m\u001b[0m\u001b[0;34m\u001b[0m\u001b[0m\n\u001b[0m",
      "\u001b[0;31mNameError\u001b[0m: name 'LogisticRegressionWithLBFGS' is not defined"
     ]
    }
   ],
   "source": [
    "model = LogisticRegressionWithLBFGS.train(training)"
   ]
  },
  {
   "cell_type": "code",
   "execution_count": null,
   "metadata": {},
   "outputs": [],
   "source": []
  }
 ],
 "metadata": {
  "kernelspec": {
   "display_name": "DS 5110 Spark 3.1",
   "language": "python",
   "name": "ds5110_spark3.1"
  },
  "language_info": {
   "codemirror_mode": {
    "name": "ipython",
    "version": 3
   },
   "file_extension": ".py",
   "mimetype": "text/x-python",
   "name": "python",
   "nbconvert_exporter": "python",
   "pygments_lexer": "ipython3",
   "version": "3.7.10"
  }
 },
 "nbformat": 4,
 "nbformat_minor": 4
}
